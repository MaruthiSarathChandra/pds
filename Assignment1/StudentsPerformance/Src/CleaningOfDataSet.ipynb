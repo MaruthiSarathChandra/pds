{
  "nbformat": 4,
  "nbformat_minor": 0,
  "metadata": {
    "colab": {
      "provenance": []
    },
    "kernelspec": {
      "name": "python3",
      "display_name": "Python 3"
    },
    "language_info": {
      "name": "python"
    }
  },
  "cells": [
    {
      "cell_type": "code",
      "source": [
        "import pandas as pd"
      ],
      "metadata": {
        "id": "BiJcHIsgN8Wi"
      },
      "execution_count": 1,
      "outputs": []
    },
    {
      "cell_type": "code",
      "source": [
        "# Load the student performance dataset\n",
        "file_path = \"StudentsPerformance.csv\"\n",
        "df = pd.read_csv(file_path)"
      ],
      "metadata": {
        "id": "-cJyH2bzN9ad"
      },
      "execution_count": 3,
      "outputs": []
    },
    {
      "cell_type": "code",
      "source": [
        "# Step 1: Checking for missing values\n",
        "missing_values = df.isnull().sum()\n",
        "print(\"Checking for missing values:\")\n",
        "print(missing_values[missing_values > 0])\n"
      ],
      "metadata": {
        "id": "aeUdVZbmN_AW",
        "colab": {
          "base_uri": "https://localhost:8080/"
        },
        "outputId": "3a100c3e-715a-427b-e81f-1339a838b344"
      },
      "execution_count": 4,
      "outputs": [
        {
          "output_type": "stream",
          "name": "stdout",
          "text": [
            "Checking for missing values:\n",
            "Series([], dtype: int64)\n"
          ]
        }
      ]
    },
    {
      "cell_type": "code",
      "source": [
        "\n",
        "# Step 2: Filling missing values with column mean\n",
        "for column in ['math score', 'reading score', 'writing score']:\n",
        "    if df[column].isnull().sum() > 0:\n",
        "        df[column].fillna(df[column].mean(), inplace=True)\n",
        "\n",
        "print(\"Missing values filled with column mean where necessary.\")"
      ],
      "metadata": {
        "id": "iXF4XcvFOBjc",
        "colab": {
          "base_uri": "https://localhost:8080/"
        },
        "outputId": "d03007c9-4858-4772-e6cd-bb1dd4aaa389"
      },
      "execution_count": 5,
      "outputs": [
        {
          "output_type": "stream",
          "name": "stdout",
          "text": [
            "Missing values filled with column mean where necessary.\n"
          ]
        }
      ]
    },
    {
      "cell_type": "code",
      "source": [
        "\n",
        "# Step 3: Checking for duplicate values\n",
        "duplicates = df.duplicated().sum()\n",
        "if duplicates > 0:\n",
        "    print(f\"Number of duplicate rows found: {duplicates}\")\n",
        "    df.drop_duplicates(inplace=True)\n",
        "    print(\"Duplicate rows removed.\")\n",
        "else:\n",
        "    print(\"No duplicate rows found.\")"
      ],
      "metadata": {
        "id": "fD6quF-COEnV",
        "colab": {
          "base_uri": "https://localhost:8080/"
        },
        "outputId": "11cc8b1f-71bf-47f7-a1f6-c562896a6a45"
      },
      "execution_count": 6,
      "outputs": [
        {
          "output_type": "stream",
          "name": "stdout",
          "text": [
            "No duplicate rows found.\n"
          ]
        }
      ]
    },
    {
      "cell_type": "code",
      "source": [
        "\n",
        "# Step 4: Save the cleaned dataset\n",
        "df.to_csv(\"processed_student_data.csv\", index=False)\n",
        "\n",
        "print(\"Data processing complete. Cleaned data saved as 'processed_student_data.csv'\")\n"
      ],
      "metadata": {
        "id": "m5WxcLeTOItH",
        "colab": {
          "base_uri": "https://localhost:8080/"
        },
        "outputId": "0f183657-0993-4ea5-843f-b9f57629b476"
      },
      "execution_count": 7,
      "outputs": [
        {
          "output_type": "stream",
          "name": "stdout",
          "text": [
            "Data processing complete. Cleaned data saved as 'processed_student_data.csv'\n"
          ]
        }
      ]
    }
  ]
}