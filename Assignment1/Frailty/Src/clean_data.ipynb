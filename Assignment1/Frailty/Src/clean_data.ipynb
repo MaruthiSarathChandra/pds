{
  "nbformat": 4,
  "nbformat_minor": 0,
  "metadata": {
    "colab": {
      "provenance": []
    },
    "kernelspec": {
      "name": "python3",
      "display_name": "Python 3"
    },
    "language_info": {
      "name": "python"
    }
  },
  "cells": [
    {
      "cell_type": "code",
      "execution_count": 2,
      "metadata": {
        "id": "6-tgpRVOtJ-Z"
      },
      "outputs": [],
      "source": [
        "import pandas as pd"
      ]
    },
    {
      "cell_type": "code",
      "source": [
        "# Creating raw data as per the given table\n",
        "data = {\n",
        "    \"Height\": [65.8, 71.5, 69.4, 68.2, 67.8, 68.7, 69.8, 70.1, 67.9, 66.8],\n",
        "    \"Weight\": [112, 136, 153, 142, 144, 123, 141, 136, 112, 120],\n",
        "    \"Age\": [30, 19, 45, 22, 29, 50, 51, 23, 17, 39],\n",
        "    \"Grip_strength\": [30, 31, 29, 28, 24, 26, 22, 20, 19, 31],\n",
        "    \"Frailty\": [\"N\", \"N\", \"N\", \"Y\", \"Y\", \"N\", \"Y\", \"Y\", \"N\", \"N\"]\n",
        "}"
      ],
      "metadata": {
        "id": "7MWyU5J8wI_G"
      },
      "execution_count": 10,
      "outputs": []
    },
    {
      "cell_type": "code",
      "source": [
        "# Creating DataFrame\n",
        "df = pd.DataFrame(data)"
      ],
      "metadata": {
        "id": "dLUuRUT8-Lh2"
      },
      "execution_count": 11,
      "outputs": []
    },
    {
      "cell_type": "code",
      "source": [
        "\n",
        "# Step 1: Checking for missing values\n",
        "print(\"Checking for missing values:\")\n",
        "print(df.isnull().sum())\n"
      ],
      "metadata": {
        "colab": {
          "base_uri": "https://localhost:8080/"
        },
        "id": "39wizNe1-UYy",
        "outputId": "839dfb39-e7ca-4d61-efa9-6ce787ef7960"
      },
      "execution_count": 12,
      "outputs": [
        {
          "output_type": "stream",
          "name": "stdout",
          "text": [
            "Checking for missing values:\n",
            "Height           0\n",
            "Weight           0\n",
            "Age              0\n",
            "Grip_strength    0\n",
            "Frailty          0\n",
            "dtype: int64\n"
          ]
        }
      ]
    },
    {
      "cell_type": "code",
      "source": [
        "\n",
        "# Step 2: Checking for duplicate values\n",
        "duplicates = df.duplicated().sum()\n",
        "if duplicates > 0:\n",
        "    print(f\"Number of duplicate rows: {duplicates}\")\n",
        "else:\n",
        "    print(\"No duplicate rows found.\")\n"
      ],
      "metadata": {
        "colab": {
          "base_uri": "https://localhost:8080/"
        },
        "id": "Av1ztLSu-Yh0",
        "outputId": "611d1ab4-a78c-47db-e260-d9bff516d86f"
      },
      "execution_count": 13,
      "outputs": [
        {
          "output_type": "stream",
          "name": "stdout",
          "text": [
            "No duplicate rows found.\n"
          ]
        }
      ]
    },
    {
      "cell_type": "code",
      "source": [
        "\n",
        "# Step 3: Convert Frailty column: 'Y' to 1, 'N' to 0\n",
        "df['Frailty'] = df['Frailty'].map({'Y': 1, 'N': 0})\n"
      ],
      "metadata": {
        "id": "BqczwriT-bTP"
      },
      "execution_count": 15,
      "outputs": []
    },
    {
      "cell_type": "code",
      "source": [
        "\n",
        "# Step 4: Normalize Grip Strength using Min-Max Scaling\n",
        "df['Grip_strength_normalized'] = (df['Grip_strength'] - df['Grip_strength'].min()) / (df['Grip_strength'].max() - df['Grip_strength'].min())\n"
      ],
      "metadata": {
        "id": "5pnnKjAr-fmw"
      },
      "execution_count": 18,
      "outputs": []
    },
    {
      "cell_type": "code",
      "source": [
        "\n",
        "# Step 5: Save the processed data to a CSV file for further analysis\n",
        "df.to_csv(\"processed_data.csv\", index=False)\n",
        "\n",
        "print(\"Data processing complete. Cleaned data saved as 'processed_data.csv'\")\n"
      ],
      "metadata": {
        "colab": {
          "base_uri": "https://localhost:8080/"
        },
        "id": "wLQd_SCZ-iOt",
        "outputId": "4a660dbd-b4a3-4956-9b83-5d59ce1de02f"
      },
      "execution_count": 19,
      "outputs": [
        {
          "output_type": "stream",
          "name": "stdout",
          "text": [
            "Data processing complete. Cleaned data saved as 'processed_data.csv'\n"
          ]
        }
      ]
    }
  ]
}