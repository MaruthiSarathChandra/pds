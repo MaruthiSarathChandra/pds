{
  "nbformat": 4,
  "nbformat_minor": 0,
  "metadata": {
    "colab": {
      "provenance": []
    },
    "kernelspec": {
      "name": "python3",
      "display_name": "Python 3"
    },
    "language_info": {
      "name": "python"
    }
  },
  "cells": [
    {
      "cell_type": "code",
      "execution_count": 24,
      "metadata": {
        "id": "g48xf4ysPxhb"
      },
      "outputs": [],
      "source": [
        "import pandas as pd\n",
        "import numpy as np\n",
        "from datetime import datetime"
      ]
    },
    {
      "cell_type": "code",
      "source": [
        "# Load the dataset\n",
        "df = pd.read_csv(\"train.csv\")"
      ],
      "metadata": {
        "id": "RdCJ4t7-P39k"
      },
      "execution_count": 55,
      "outputs": []
    },
    {
      "cell_type": "code",
      "source": [
        "# a) Handle missing values\n",
        "print(\"Missing values before handling:\\n\", df.isnull().sum())\n",
        "\n",
        "# Impute numeric columns with median and non-numeric with mode\n",
        "for column in df.columns:\n",
        "    if df[column].isnull().sum() > 0:\n",
        "        if df[column].dtype in ['float64', 'int64']:\n",
        "            df[column] = df[column].fillna(df[column].median())\n",
        "        else:\n",
        "            df[column] = df[column].fillna(df[column].mode()[0])\n",
        "\n",
        "print(\"\\nMissing values after handling:\\n\", df.isnull().sum())\n"
      ],
      "metadata": {
        "colab": {
          "base_uri": "https://localhost:8080/"
        },
        "id": "v0U-_kAhR5l-",
        "outputId": "5dcc43ac-629e-4c52-e29b-d8d32dd3f33b"
      },
      "execution_count": 56,
      "outputs": [
        {
          "output_type": "stream",
          "name": "stdout",
          "text": [
            "Missing values before handling:\n",
            " Unnamed: 0              0\n",
            "Name                    0\n",
            "Location                0\n",
            "Year                    0\n",
            "Kilometers_Driven       0\n",
            "Fuel_Type               0\n",
            "Transmission            0\n",
            "Owner_Type              0\n",
            "Mileage                 2\n",
            "Engine                 36\n",
            "Power                  36\n",
            "Seats                  38\n",
            "New_Price            5032\n",
            "Price                   0\n",
            "dtype: int64\n",
            "\n",
            "Missing values after handling:\n",
            " Unnamed: 0           0\n",
            "Name                 0\n",
            "Location             0\n",
            "Year                 0\n",
            "Kilometers_Driven    0\n",
            "Fuel_Type            0\n",
            "Transmission         0\n",
            "Owner_Type           0\n",
            "Mileage              0\n",
            "Engine               0\n",
            "Power                0\n",
            "Seats                0\n",
            "New_Price            0\n",
            "Price                0\n",
            "dtype: int64\n"
          ]
        }
      ]
    },
    {
      "cell_type": "code",
      "source": [
        "# b) Remove units from some columns\n",
        "def clean_numeric(col, pattern):\n",
        "    return df[col].astype(str).str.replace(pattern, '', regex=True).str.strip()\n",
        "\n",
        "df[\"Mileage\"] = clean_numeric(\"Mileage\", r\"[^\\d.]\").astype(float)\n",
        "df[\"Engine\"] = clean_numeric(\"Engine\", r\"[^\\d.]\").astype(float)\n",
        "df[\"Power\"] = clean_numeric(\"Power\", r\"[^\\d.]\").astype(float)\n",
        "df[\"New_Price\"] = clean_numeric(\"New_Price\", r\"[^\\d.]\").astype(float)\n"
      ],
      "metadata": {
        "id": "IWhLuAoJSWuQ"
      },
      "execution_count": 57,
      "outputs": []
    },
    {
      "cell_type": "code",
      "source": [
        "\n",
        "# c) One-hot encode Fuel_Type and Transmission\n",
        "df = pd.get_dummies(df, columns=[\"Fuel_Type\", \"Transmission\"], drop_first=True)\n"
      ],
      "metadata": {
        "id": "lDvRxADBTDID"
      },
      "execution_count": 58,
      "outputs": []
    },
    {
      "cell_type": "code",
      "source": [
        "# d) Create new feature: Car_Age\n",
        "current_year = datetime.now().year\n",
        "df[\"Car_Age\"] = current_year - df[\"Year\"]\n",
        "\n",
        "\n",
        "\n",
        "# Print the DataFrame after point d\n",
        "print(\"\\n✅ DataFrame after point (d) — with cleaned columns and new Car_Age:\\n\")\n",
        "print(df.head(10))  # You can change 10 to more/less if needed"
      ],
      "metadata": {
        "colab": {
          "base_uri": "https://localhost:8080/"
        },
        "id": "7wky18WITKyy",
        "outputId": "6ff5b0e6-8553-414b-f4d8-d943f357ba2a"
      },
      "execution_count": 59,
      "outputs": [
        {
          "output_type": "stream",
          "name": "stdout",
          "text": [
            "\n",
            "✅ DataFrame after point (d) — with cleaned columns and new Car_Age:\n",
            "\n",
            "   Unnamed: 0                                 Name    Location  Year  \\\n",
            "0           1     Hyundai Creta 1.6 CRDi SX Option        Pune  2015   \n",
            "1           2                         Honda Jazz V     Chennai  2011   \n",
            "2           3                    Maruti Ertiga VDI     Chennai  2012   \n",
            "3           4      Audi A4 New 2.0 TDI Multitronic  Coimbatore  2013   \n",
            "4           6               Nissan Micra Diesel XV      Jaipur  2013   \n",
            "5           7    Toyota Innova Crysta 2.8 GX AT 8S      Mumbai  2016   \n",
            "6           8  Volkswagen Vento Diesel Comfortline        Pune  2013   \n",
            "7           9       Tata Indica Vista Quadrajet LS     Chennai  2012   \n",
            "8          10                     Maruti Ciaz Zeta       Kochi  2018   \n",
            "9          11          Honda City 1.5 V AT Sunroof     Kolkata  2012   \n",
            "\n",
            "   Kilometers_Driven Owner_Type  Mileage  Engine   Power  Seats  New_Price  \\\n",
            "0              41000      First    19.67  1582.0  126.20    5.0       4.78   \n",
            "1              46000      First    13.00  1199.0   88.70    5.0       8.61   \n",
            "2              87000      First    20.77  1248.0   88.76    7.0       4.78   \n",
            "3              40670     Second    15.20  1968.0  140.80    5.0       4.78   \n",
            "4              86999      First    23.08  1461.0   63.10    5.0       4.78   \n",
            "5              36000      First    11.36  2755.0  171.50    8.0      21.00   \n",
            "6              64430      First    20.54  1598.0  103.60    5.0       4.78   \n",
            "7              65932     Second    22.30  1248.0   74.00    5.0       4.78   \n",
            "8              25692      First    21.56  1462.0  103.25    5.0      10.65   \n",
            "9              60000      First    16.80  1497.0  116.30    5.0       4.78   \n",
            "\n",
            "   Price  Fuel_Type_Electric  Fuel_Type_Petrol  Transmission_Manual  Car_Age  \n",
            "0  12.50               False             False                 True       10  \n",
            "1   4.50               False              True                 True       14  \n",
            "2   6.00               False             False                 True       13  \n",
            "3  17.74               False             False                False       12  \n",
            "4   3.50               False             False                 True       12  \n",
            "5  17.50               False             False                False        9  \n",
            "6   5.20               False             False                 True       12  \n",
            "7   1.95               False             False                 True       13  \n",
            "8   9.95               False              True                 True        7  \n",
            "9   4.49               False              True                False       13  \n"
          ]
        }
      ]
    },
    {
      "cell_type": "code",
      "source": [
        "\n",
        "# e) Data operations\n",
        "\n",
        "# Rename 'Price' before using it in other steps\n",
        "df.rename(columns={\"Price\": \"Selling_Price\"}, inplace=True)\n",
        "\n",
        "# Select specific columns\n",
        "selected_df = df[[\"Name\", \"Location\", \"Year\", \"Mileage\", \"Engine\", \"Selling_Price\"]]\n",
        "\n",
        "# Filter cars priced more than 10 lakhs\n",
        "filtered_df = df[df[\"Selling_Price\"] > 10]\n",
        "\n",
        "# Mutate: create Mileage_per_CC\n",
        "df[\"Mileage_per_CC\"] = df[\"Mileage\"] / df[\"Engine\"]\n",
        "\n",
        "# Arrange: sort by Selling_Price\n",
        "arranged_df = df.sort_values(by=\"Selling_Price\", ascending=False)\n",
        "\n",
        "# Summarize: mean, max, min price by Location\n",
        "summary = df.groupby(\"Location\")[\"Selling_Price\"].agg([\"mean\", \"max\", \"min\"]).reset_index()\n",
        "\n",
        "# Display output samples\n",
        "print(\"\\n✅ Selected columns:\\n\", selected_df.head())\n",
        "print(\"\\n✅ Filtered cars (Selling_Price > 10 lakhs):\\n\", filtered_df[[\"Name\", \"Selling_Price\"]].head())\n",
        "print(\"\\n✅ New feature - Mileage_per_CC:\\n\", df[[\"Name\", \"Mileage_per_CC\"]].head())\n",
        "print(\"\\n✅ Sorted by Selling_Price:\\n\", arranged_df[[\"Name\", \"Selling_Price\"]].head())\n",
        "print(\"\\n✅ Price summary by Location:\\n\", summary)\n"
      ],
      "metadata": {
        "colab": {
          "base_uri": "https://localhost:8080/"
        },
        "id": "-XQ83yWnTOg0",
        "outputId": "3b027d93-e743-4a0f-fb6e-8a08d50d80a3"
      },
      "execution_count": 60,
      "outputs": [
        {
          "output_type": "stream",
          "name": "stdout",
          "text": [
            "\n",
            "✅ Selected columns:\n",
            "                                Name    Location  Year  Mileage  Engine  \\\n",
            "0  Hyundai Creta 1.6 CRDi SX Option        Pune  2015    19.67  1582.0   \n",
            "1                      Honda Jazz V     Chennai  2011    13.00  1199.0   \n",
            "2                 Maruti Ertiga VDI     Chennai  2012    20.77  1248.0   \n",
            "3   Audi A4 New 2.0 TDI Multitronic  Coimbatore  2013    15.20  1968.0   \n",
            "4            Nissan Micra Diesel XV      Jaipur  2013    23.08  1461.0   \n",
            "\n",
            "   Selling_Price  \n",
            "0          12.50  \n",
            "1           4.50  \n",
            "2           6.00  \n",
            "3          17.74  \n",
            "4           3.50  \n",
            "\n",
            "✅ Filtered cars (Selling_Price > 10 lakhs):\n",
            "                                  Name  Selling_Price\n",
            "0    Hyundai Creta 1.6 CRDi SX Option          12.50\n",
            "3     Audi A4 New 2.0 TDI Multitronic          17.74\n",
            "5   Toyota Innova Crysta 2.8 GX AT 8S          17.50\n",
            "11   Land Rover Range Rover 2.2L Pure          27.00\n",
            "12     Land Rover Freelander 2 TD4 SE          17.50\n",
            "\n",
            "✅ New feature - Mileage_per_CC:\n",
            "                                Name  Mileage_per_CC\n",
            "0  Hyundai Creta 1.6 CRDi SX Option        0.012434\n",
            "1                      Honda Jazz V        0.010842\n",
            "2                 Maruti Ertiga VDI        0.016643\n",
            "3   Audi A4 New 2.0 TDI Multitronic        0.007724\n",
            "4            Nissan Micra Diesel XV        0.015797\n",
            "\n",
            "✅ Sorted by Selling_Price:\n",
            "                                              Name  Selling_Price\n",
            "3952  Land Rover Range Rover 3.0 Diesel LWB Vogue         160.00\n",
            "5620                   Lamborghini Gallardo Coupe         120.00\n",
            "5752                       Jaguar F Type 5.0 V8 S         100.00\n",
            "1457              Land Rover Range Rover Sport SE          97.07\n",
            "1917                           BMW 7 Series 740Li          93.67\n",
            "\n",
            "✅ Price summary by Location:\n",
            "       Location       mean     max   min\n",
            "0    Ahmedabad   8.567248   85.00  0.75\n",
            "1    Bangalore  13.482670   93.00  1.65\n",
            "2      Chennai   7.958340   70.00  0.70\n",
            "3   Coimbatore  15.160206   93.67  1.68\n",
            "4        Delhi   9.881944  120.00  0.75\n",
            "5    Hyderabad   9.997423  160.00  0.60\n",
            "6       Jaipur   5.916725   42.50  0.45\n",
            "7        Kochi  11.309109   97.07  1.26\n",
            "8      Kolkata   5.733924   75.00  0.65\n",
            "9       Mumbai   9.592546   75.00  0.55\n",
            "10        Pune   6.951000   68.00  0.44\n"
          ]
        }
      ]
    }
  ]
}